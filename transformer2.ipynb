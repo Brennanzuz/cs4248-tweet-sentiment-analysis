{
 "cells": [
  {
   "cell_type": "code",
   "execution_count": 1,
   "metadata": {},
   "outputs": [
    {
     "name": "stderr",
     "output_type": "stream",
     "text": [
      "d:\\Egen\\Kuliah\\Discover NUS\\Natural Language Processing\\venv\\Lib\\site-packages\\tqdm\\auto.py:21: TqdmWarning: IProgress not found. Please update jupyter and ipywidgets. See https://ipywidgets.readthedocs.io/en/stable/user_install.html\n",
      "  from .autonotebook import tqdm as notebook_tqdm\n"
     ]
    },
    {
     "name": "stdout",
     "output_type": "stream",
     "text": [
      "WARNING:tensorflow:From d:\\Egen\\Kuliah\\Discover NUS\\Natural Language Processing\\venv\\Lib\\site-packages\\tf_keras\\src\\losses.py:2976: The name tf.losses.sparse_softmax_cross_entropy is deprecated. Please use tf.compat.v1.losses.sparse_softmax_cross_entropy instead.\n",
      "\n"
     ]
    }
   ],
   "source": [
    "import pandas as pd\n",
    "import numpy as np\n",
    "import math\n",
    "import kagglehub\n",
    "import tensorflow as tf\n",
    "import matplotlib.pyplot as plt\n",
    "import re, string\n",
    "import emoji\n",
    "import nltk\n",
    "from sklearn import preprocessing\n",
    "from sklearn.model_selection import train_test_split\n",
    "from sklearn.preprocessing import LabelEncoder\n",
    "from sklearn.feature_extraction.text import CountVectorizer\n",
    "from sklearn.feature_extraction.text import TfidfTransformer\n",
    "from sklearn.naive_bayes import MultinomialNB\n",
    "from transformers import BertTokenizerFast\n",
    "from transformers import TFBertModel\n",
    "from transformers import RobertaTokenizerFast\n",
    "from transformers import TFRobertaModel\n",
    "import tensorflow as tf\n",
    "from tensorflow.keras.preprocessing.text import Tokenizer\n",
    "from tensorflow.keras.preprocessing.sequence import pad_sequences\n",
    "from tensorflow.keras.layers import *\n",
    "from tensorflow.keras.models import Model, Sequential\n",
    "from tensorflow.keras.callbacks import EarlyStopping, LearningRateScheduler, ModelCheckpoint\n",
    "from tensorflow.keras.utils import to_categorical\n",
    "from keras.models import load_model\n",
    "from tensorflow import keras\n",
    "from sklearn.metrics import accuracy_score, f1_score\n",
    "from sklearn.metrics import classification_report, confusion_matrix"
   ]
  },
  {
   "cell_type": "code",
   "execution_count": 2,
   "metadata": {},
   "outputs": [
    {
     "name": "stdout",
     "output_type": "stream",
     "text": [
      "Warning: Looks like you're using an outdated `kagglehub` version (installed: 0.3.9), please consider upgrading to the latest version (0.3.10).\n"
     ]
    }
   ],
   "source": [
    "path = kagglehub.dataset_download('abhi8923shriv/sentiment-analysis-dataset')\n",
    "train_dataset = path+'/train.csv'\n",
    "test_dataset = path+'/test.csv'\n",
    "train_df = pd.read_csv(train_dataset, encoding='ISO-8859-1')\n",
    "test_df = pd.read_csv(test_dataset, encoding='ISO-8859-1')"
   ]
  },
  {
   "cell_type": "code",
   "execution_count": 3,
   "metadata": {},
   "outputs": [],
   "source": [
    "train = train_df.dropna(subset = \"text\")[[\"text\", \"sentiment\"]]\n",
    "test = test_df.dropna()[[\"text\", \"sentiment\"]]"
   ]
  },
  {
   "cell_type": "code",
   "execution_count": 23,
   "metadata": {},
   "outputs": [],
   "source": [
    "x = train[\"text\"].values\n",
    "label_encoder = LabelEncoder()\n",
    "y = label_encoder.fit_transform(train[\"sentiment\"].values)\n",
    "x_train, x_valid, y_train, y_valid = train_test_split(x, y, stratify=y, random_state=42, test_size=0.3, shuffle=True)\n",
    "x_test = test[\"text\"].values\n",
    "y_test = label_encoder.transform(test[\"sentiment\"])\n",
    "y_train = to_categorical(y_train, num_classes=3)\n",
    "y_valid = to_categorical(y_valid, num_classes=3)\n",
    "y_test = to_categorical(y_test, num_classes=3)"
   ]
  },
  {
   "cell_type": "code",
   "execution_count": 5,
   "metadata": {},
   "outputs": [],
   "source": [
    "tokenizer_roberta = RobertaTokenizerFast.from_pretrained(\"roberta-base\")"
   ]
  },
  {
   "cell_type": "code",
   "execution_count": 6,
   "metadata": {},
   "outputs": [
    {
     "data": {
      "text/plain": [
       "112"
      ]
     },
     "execution_count": 6,
     "metadata": {},
     "output_type": "execute_result"
    }
   ],
   "source": [
    "token_lens = []\n",
    "\n",
    "for txt in x_train:\n",
    "    tokens = tokenizer_roberta.encode(txt, max_length=512, truncation=True)\n",
    "    token_lens.append(len(tokens))\n",
    "max_length=np.max(token_lens)\n",
    "max_length"
   ]
  },
  {
   "cell_type": "code",
   "execution_count": 7,
   "metadata": {},
   "outputs": [],
   "source": [
    "def tokenize_roberta(data,max_len=128) :\n",
    "    input_ids = []\n",
    "    attention_masks = []\n",
    "    for i in range(len(data)):\n",
    "        encoded = tokenizer_roberta.encode_plus(\n",
    "            data[i],\n",
    "            add_special_tokens=True,\n",
    "            max_length=max_len,\n",
    "            padding='max_length',\n",
    "            return_attention_mask=True\n",
    "        )\n",
    "        input_ids.append(encoded['input_ids'])\n",
    "        attention_masks.append(encoded['attention_mask'])\n",
    "    return np.array(input_ids),np.array(attention_masks)"
   ]
  },
  {
   "cell_type": "code",
   "execution_count": 8,
   "metadata": {},
   "outputs": [],
   "source": [
    "train_input_ids, train_attention_masks = tokenize_roberta(x_train)\n",
    "val_input_ids, val_attention_masks = tokenize_roberta(x_valid)\n",
    "test_input_ids, test_attention_masks = tokenize_roberta(x_test)"
   ]
  },
  {
   "cell_type": "code",
   "execution_count": 24,
   "metadata": {},
   "outputs": [],
   "source": [
    "def train_model(bert_model, max_len=128):\n",
    "    \n",
    "    input_ids = Input(shape=(max_len,),dtype='int32')\n",
    "    attention_masks = Input(shape=(max_len,),dtype='int32')\n",
    "    # output = bert_model(input_ids=input_ids, attention_mask=attention_masks)\n",
    "    # output = output[1]\n",
    "    def roberta_encoding(inputs):\n",
    "        input_ids, attention_mask = inputs\n",
    "        outputs = bert_model(input_ids=input_ids, attention_mask=attention_mask)\n",
    "        return outputs.last_hidden_state[:, 0, :]\n",
    "\n",
    "    roberta_output = tf.keras.layers.Lambda(roberta_encoding, output_shape=(768,))([input_ids, attention_masks])\n",
    "\n",
    "    dense = tf.keras.layers.Dense(64, activation='relu')(roberta_output)\n",
    "    dropout = tf.keras.layers.Dropout(0.3)(dense)\n",
    "    output = Dense(3, activation=tf.nn.softmax)(dropout)\n",
    "    model = Model(inputs = [input_ids,attention_masks],outputs = output)\n",
    "    lr_scheduler = LearningRateScheduler(lambda x: 1e-4 * math.exp(-0.1 * x))\n",
    "\n",
    "    early_stopping = EarlyStopping(monitor='val_loss', patience=5, restore_best_weights=True)\n",
    "\n",
    "    model.compile(loss=\"categorical_crossentropy\",\n",
    "                    optimizer=\"adam\",\n",
    "                    metrics=[\"accuracy\"])\n",
    "\n",
    "    history = model.fit([train_input_ids,train_attention_masks], y_train,                   \n",
    "                          epochs=10,\n",
    "                          validation_data=([val_input_ids,val_attention_masks], y_valid),\n",
    "                          batch_size=64,\n",
    "                          verbose=1,\n",
    "                          callbacks=[lr_scheduler, early_stopping])\n",
    "    \n",
    "    model.save(\"model_roberta.keras\")\n",
    "\n",
    "    return model, history"
   ]
  },
  {
   "cell_type": "code",
   "execution_count": 10,
   "metadata": {},
   "outputs": [
    {
     "name": "stdout",
     "output_type": "stream",
     "text": [
      "WARNING:tensorflow:From d:\\Egen\\Kuliah\\Discover NUS\\Natural Language Processing\\venv\\Lib\\site-packages\\tf_keras\\src\\backend.py:873: The name tf.get_default_graph is deprecated. Please use tf.compat.v1.get_default_graph instead.\n",
      "\n"
     ]
    },
    {
     "name": "stderr",
     "output_type": "stream",
     "text": [
      "Some weights of the PyTorch model were not used when initializing the TF 2.0 model TFRobertaModel: ['lm_head.dense.weight', 'roberta.embeddings.position_ids', 'lm_head.layer_norm.weight', 'lm_head.bias', 'lm_head.dense.bias', 'lm_head.layer_norm.bias']\n",
      "- This IS expected if you are initializing TFRobertaModel from a PyTorch model trained on another task or with another architecture (e.g. initializing a TFBertForSequenceClassification model from a BertForPreTraining model).\n",
      "- This IS NOT expected if you are initializing TFRobertaModel from a PyTorch model that you expect to be exactly identical (e.g. initializing a TFBertForSequenceClassification model from a BertForSequenceClassification model).\n",
      "Some weights or buffers of the TF 2.0 model TFRobertaModel were not initialized from the PyTorch model and are newly initialized: ['roberta.pooler.dense.weight', 'roberta.pooler.dense.bias']\n",
      "You should probably TRAIN this model on a down-stream task to be able to use it for predictions and inference.\n"
     ]
    }
   ],
   "source": [
    "roberta_model = TFRobertaModel.from_pretrained('roberta-base')"
   ]
  },
  {
   "cell_type": "code",
   "execution_count": 22,
   "metadata": {},
   "outputs": [
    {
     "data": {
      "text/plain": [
       "(19236,)"
      ]
     },
     "execution_count": 22,
     "metadata": {},
     "output_type": "execute_result"
    }
   ],
   "source": [
    "y_train.shape"
   ]
  },
  {
   "cell_type": "code",
   "execution_count": 25,
   "metadata": {},
   "outputs": [
    {
     "name": "stdout",
     "output_type": "stream",
     "text": [
      "Epoch 1/10\n",
      "\u001b[1m301/301\u001b[0m \u001b[32m━━━━━━━━━━━━━━━━━━━━\u001b[0m\u001b[37m\u001b[0m \u001b[1m2763s\u001b[0m 9s/step - accuracy: 0.3706 - loss: 1.1218 - val_accuracy: 0.4106 - val_loss: 1.0616 - learning_rate: 1.0000e-04\n",
      "Epoch 2/10\n",
      "\u001b[1m301/301\u001b[0m \u001b[32m━━━━━━━━━━━━━━━━━━━━\u001b[0m\u001b[37m\u001b[0m \u001b[1m2757s\u001b[0m 9s/step - accuracy: 0.4267 - loss: 1.0649 - val_accuracy: 0.4431 - val_loss: 1.0368 - learning_rate: 9.0484e-05\n",
      "Epoch 3/10\n",
      "\u001b[1m301/301\u001b[0m \u001b[32m━━━━━━━━━━━━━━━━━━━━\u001b[0m\u001b[37m\u001b[0m \u001b[1m2760s\u001b[0m 9s/step - accuracy: 0.4738 - loss: 1.0306 - val_accuracy: 0.5082 - val_loss: 1.0136 - learning_rate: 8.1873e-05\n",
      "Epoch 4/10\n",
      "\u001b[1m301/301\u001b[0m \u001b[32m━━━━━━━━━━━━━━━━━━━━\u001b[0m\u001b[37m\u001b[0m \u001b[1m2762s\u001b[0m 9s/step - accuracy: 0.5147 - loss: 1.0088 - val_accuracy: 0.5067 - val_loss: 0.9936 - learning_rate: 7.4082e-05\n",
      "Epoch 5/10\n",
      "\u001b[1m301/301\u001b[0m \u001b[32m━━━━━━━━━━━━━━━━━━━━\u001b[0m\u001b[37m\u001b[0m \u001b[1m2753s\u001b[0m 9s/step - accuracy: 0.5297 - loss: 0.9866 - val_accuracy: 0.5492 - val_loss: 0.9753 - learning_rate: 6.7032e-05\n",
      "Epoch 6/10\n",
      "\u001b[1m301/301\u001b[0m \u001b[32m━━━━━━━━━━━━━━━━━━━━\u001b[0m\u001b[37m\u001b[0m \u001b[1m2794s\u001b[0m 9s/step - accuracy: 0.5465 - loss: 0.9697 - val_accuracy: 0.5574 - val_loss: 0.9600 - learning_rate: 6.0653e-05\n",
      "Epoch 7/10\n",
      "\u001b[1m301/301\u001b[0m \u001b[32m━━━━━━━━━━━━━━━━━━━━\u001b[0m\u001b[37m\u001b[0m \u001b[1m2964s\u001b[0m 10s/step - accuracy: 0.5567 - loss: 0.9576 - val_accuracy: 0.5682 - val_loss: 0.9469 - learning_rate: 5.4881e-05\n",
      "Epoch 8/10\n",
      "\u001b[1m301/301\u001b[0m \u001b[32m━━━━━━━━━━━━━━━━━━━━\u001b[0m\u001b[37m\u001b[0m \u001b[1m2968s\u001b[0m 10s/step - accuracy: 0.5607 - loss: 0.9485 - val_accuracy: 0.5679 - val_loss: 0.9354 - learning_rate: 4.9659e-05\n",
      "Epoch 9/10\n",
      "\u001b[1m301/301\u001b[0m \u001b[32m━━━━━━━━━━━━━━━━━━━━\u001b[0m\u001b[37m\u001b[0m \u001b[1m2759s\u001b[0m 9s/step - accuracy: 0.5719 - loss: 0.9304 - val_accuracy: 0.5835 - val_loss: 0.9258 - learning_rate: 4.4933e-05\n",
      "Epoch 10/10\n",
      "\u001b[1m301/301\u001b[0m \u001b[32m━━━━━━━━━━━━━━━━━━━━\u001b[0m\u001b[37m\u001b[0m \u001b[1m2832s\u001b[0m 9s/step - accuracy: 0.5810 - loss: 0.9236 - val_accuracy: 0.5869 - val_loss: 0.9182 - learning_rate: 4.0657e-05\n"
     ]
    }
   ],
   "source": [
    "model, history = train_model(roberta_model)"
   ]
  },
  {
   "cell_type": "code",
   "execution_count": 26,
   "metadata": {},
   "outputs": [
    {
     "name": "stdout",
     "output_type": "stream",
     "text": [
      "\u001b[1m111/111\u001b[0m \u001b[32m━━━━━━━━━━━━━━━━━━━━\u001b[0m\u001b[37m\u001b[0m \u001b[1m381s\u001b[0m 3s/step\n"
     ]
    }
   ],
   "source": [
    "preds = model.predict([test_input_ids, test_attention_masks])"
   ]
  },
  {
   "cell_type": "code",
   "execution_count": 35,
   "metadata": {},
   "outputs": [
    {
     "name": "stdout",
     "output_type": "stream",
     "text": [
      "              precision    recall  f1-score   support\n",
      "\n",
      "           0       0.62      0.44      0.52      1001\n",
      "           1       0.52      0.74      0.61      1430\n",
      "           2       0.68      0.49      0.57      1103\n",
      "\n",
      "    accuracy                           0.58      3534\n",
      "   macro avg       0.61      0.56      0.57      3534\n",
      "weighted avg       0.60      0.58      0.57      3534\n",
      "\n"
     ]
    }
   ],
   "source": [
    "y_pred = np.argmax(preds, axis=1)\n",
    "y_true = np.argmax(y_test, axis=1)\n",
    "report = classification_report(y_true, y_pred)\n",
    "print(report)"
   ]
  }
 ],
 "metadata": {
  "kernelspec": {
   "display_name": "venv",
   "language": "python",
   "name": "python3"
  },
  "language_info": {
   "codemirror_mode": {
    "name": "ipython",
    "version": 3
   },
   "file_extension": ".py",
   "mimetype": "text/x-python",
   "name": "python",
   "nbconvert_exporter": "python",
   "pygments_lexer": "ipython3",
   "version": "3.11.4"
  }
 },
 "nbformat": 4,
 "nbformat_minor": 2
}
